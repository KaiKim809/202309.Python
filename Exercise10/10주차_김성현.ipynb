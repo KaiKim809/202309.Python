{
 "cells": [
  {
   "cell_type": "markdown",
   "id": "d1c1e008-6ad3-4dba-9a07-2159ee71b33c",
   "metadata": {},
   "source": [
    "### 클래스"
   ]
  },
  {
   "cell_type": "code",
   "execution_count": 1,
   "id": "4a00a886-c91a-4121-9ddc-9b4678c0bed3",
   "metadata": {},
   "outputs": [],
   "source": [
    "# 계산기 더하기 기능\n",
    "result = 0\n",
    "\n",
    "def adder(num):\n",
    "    global result\n",
    "    result += num\n",
    "    return result"
   ]
  },
  {
   "cell_type": "code",
   "execution_count": 2,
   "id": "64bbc80f-516b-4c8b-82bf-b08a5c1d3dee",
   "metadata": {},
   "outputs": [
    {
     "name": "stdout",
     "output_type": "stream",
     "text": [
      "3\n",
      "7\n"
     ]
    }
   ],
   "source": [
    "print(adder(3))\n",
    "print(adder(4))"
   ]
  },
  {
   "cell_type": "code",
   "execution_count": 3,
   "id": "b2eb9dae-4bee-490d-8254-48eb26c017b0",
   "metadata": {},
   "outputs": [],
   "source": [
    "# 계산기 2개\n",
    "result1 = 0\n",
    "result2 = 0\n",
    "\n",
    "def adder1(num):\n",
    "    global result1\n",
    "    result1 += num\n",
    "    return result1\n",
    "\n",
    "def adder2(num):\n",
    "    global result2\n",
    "    result2 += num\n",
    "    return result2"
   ]
  },
  {
   "cell_type": "code",
   "execution_count": 4,
   "id": "ce0182ae-a7ef-4a56-8707-82e3414db661",
   "metadata": {},
   "outputs": [
    {
     "name": "stdout",
     "output_type": "stream",
     "text": [
      "3\n",
      "7\n",
      "3\n",
      "10\n"
     ]
    }
   ],
   "source": [
    "print(adder1(3))\n",
    "print(adder1(4))\n",
    "print(adder2(3))\n",
    "print(adder2(7))"
   ]
  },
  {
   "cell_type": "code",
   "execution_count": 5,
   "id": "cc1fb241-2cc9-4838-a5bd-f69c6a047b38",
   "metadata": {},
   "outputs": [],
   "source": [
    "# 클래스 사용\n",
    "class Calculator:\n",
    "    def __init__(self):\n",
    "        self.result = 0\n",
    "    \n",
    "    def adder(self, num):\n",
    "        self.result += num\n",
    "        return self.result"
   ]
  },
  {
   "cell_type": "code",
   "execution_count": 6,
   "id": "e987f2d3-988f-4cf1-ae8d-c0ce55a8cd39",
   "metadata": {},
   "outputs": [],
   "source": [
    "cal1 = Calculator()\n",
    "cal2 = Calculator()"
   ]
  },
  {
   "cell_type": "code",
   "execution_count": 7,
   "id": "a9f60ed5-cb57-4eb8-b1ef-aeebcd1ce5d2",
   "metadata": {},
   "outputs": [
    {
     "name": "stdout",
     "output_type": "stream",
     "text": [
      "3\n",
      "7\n",
      "3\n",
      "10\n"
     ]
    }
   ],
   "source": [
    "print(cal1.adder(3))\n",
    "print(cal1.adder(4))\n",
    "print(cal2.adder(3))\n",
    "print(cal2.adder(7))"
   ]
  },
  {
   "cell_type": "code",
   "execution_count": 8,
   "id": "6f14d16b-9842-4f9f-b15f-ee0f93ed5e3d",
   "metadata": {},
   "outputs": [],
   "source": [
    "# 클래스 변수\n",
    "class Service:\n",
    "    secret = \"지구는 4006년에 멸망한다.\""
   ]
  },
  {
   "cell_type": "code",
   "execution_count": 9,
   "id": "c59577e0-4e82-49a3-a41a-c7003d0be918",
   "metadata": {},
   "outputs": [],
   "source": [
    "an = Service()"
   ]
  },
  {
   "cell_type": "code",
   "execution_count": 10,
   "id": "f517fce6-a332-40de-96c0-9adf570ffe08",
   "metadata": {},
   "outputs": [
    {
     "data": {
      "text/plain": [
       "'지구는 4006년에 멸망한다.'"
      ]
     },
     "execution_count": 10,
     "metadata": {},
     "output_type": "execute_result"
    }
   ],
   "source": [
    "an.secret"
   ]
  },
  {
   "cell_type": "code",
   "execution_count": 11,
   "id": "03217ff6-6f92-404a-9a47-63f119006d18",
   "metadata": {},
   "outputs": [
    {
     "name": "stdout",
     "output_type": "stream",
     "text": [
      "지구는 4006년에 멸망한다.\n",
      "지구가 4006년에 멸망한다는 사실은 뻥이다.\n"
     ]
    }
   ],
   "source": [
    "# 클래스 변수 공유\n",
    "print(Service.secret)\n",
    "Service.secret = '지구가 4006년에 멸망한다는 사실은 뻥이다.'\n",
    "print(an.secret)"
   ]
  },
  {
   "cell_type": "code",
   "execution_count": 12,
   "id": "995e56de-f188-4baa-9801-a8a1ba5aa709",
   "metadata": {},
   "outputs": [],
   "source": [
    "# 클래스 내부의 함수(메서드)\n",
    "class Service:\n",
    "    secret = \"지구는 4006년에 멸망한다.\"\n",
    "    \n",
    "    def sum(self, a, b):\n",
    "        result = a + b\n",
    "        print(\"%s + %s = %s이다.\" % (a, b, result))"
   ]
  },
  {
   "cell_type": "code",
   "execution_count": 13,
   "id": "cab7e58f-257c-4f6b-8518-aed820e19d45",
   "metadata": {},
   "outputs": [],
   "source": [
    "an = Service()"
   ]
  },
  {
   "cell_type": "code",
   "execution_count": 14,
   "id": "f1d2b3ae-e4b9-47c4-94f0-d87048c1c647",
   "metadata": {},
   "outputs": [
    {
     "name": "stdout",
     "output_type": "stream",
     "text": [
      "1 + 1 = 2이다.\n"
     ]
    }
   ],
   "source": [
    "an.sum(1,1)"
   ]
  },
  {
   "cell_type": "code",
   "execution_count": 15,
   "id": "72237ee5-5a55-40c2-be57-5acda59da182",
   "metadata": {},
   "outputs": [],
   "source": [
    "# 객체 변수\n",
    "class Service:\n",
    "    secret = \"지구는 4006년에 멸망한다.\"\n",
    "    \n",
    "    def setname(self, name):\n",
    "        self.name = name\n",
    "        \n",
    "    def sum(self, a, b):\n",
    "        result = a + b\n",
    "        print(\"%s님, %s + %s = %s이다.\" % (self.name, a, b, result))"
   ]
  },
  {
   "cell_type": "code",
   "execution_count": 16,
   "id": "1841162a-e358-484f-8a6b-3f448da986ec",
   "metadata": {},
   "outputs": [
    {
     "name": "stdout",
     "output_type": "stream",
     "text": [
      "박달도사님, 1 + 1 = 2이다.\n"
     ]
    }
   ],
   "source": [
    "an = Service()\n",
    "an.setname(\"박달도사\")\n",
    "an.sum(1,1)"
   ]
  },
  {
   "cell_type": "code",
   "execution_count": 17,
   "id": "828562c0-ce86-41f5-93b9-fab4d45340ea",
   "metadata": {},
   "outputs": [],
   "source": [
    "kim = Service()\n",
    "park = Service()\n",
    "kim.name = \"김정보\"\n",
    "park.name = \"박융합\""
   ]
  },
  {
   "cell_type": "code",
   "execution_count": 18,
   "id": "915aa468-401d-404e-8b8a-7ad747f9818b",
   "metadata": {},
   "outputs": [
    {
     "name": "stdout",
     "output_type": "stream",
     "text": [
      "김정보\n"
     ]
    }
   ],
   "source": [
    "print(kim.name)"
   ]
  },
  {
   "cell_type": "code",
   "execution_count": 19,
   "id": "233eddc0-bc5e-44ba-93da-4988626d1c50",
   "metadata": {},
   "outputs": [
    {
     "name": "stdout",
     "output_type": "stream",
     "text": [
      "박융합\n"
     ]
    }
   ],
   "source": [
    "print(park.name)"
   ]
  },
  {
   "cell_type": "code",
   "execution_count": 20,
   "id": "d577f2ec-54a2-42f6-8369-9f9d98dbb02a",
   "metadata": {},
   "outputs": [],
   "source": [
    "kim.secret = \"비밀은 없다\""
   ]
  },
  {
   "cell_type": "code",
   "execution_count": 21,
   "id": "715f309a-d298-43f1-9dee-fd12ca6da5b2",
   "metadata": {},
   "outputs": [
    {
     "name": "stdout",
     "output_type": "stream",
     "text": [
      "지구는 4006년에 멸망한다.\n"
     ]
    }
   ],
   "source": [
    "print(park.secret)"
   ]
  },
  {
   "cell_type": "code",
   "execution_count": 22,
   "id": "445760d1-93ed-4959-9c4a-e8bf861f8aa7",
   "metadata": {},
   "outputs": [
    {
     "name": "stdout",
     "output_type": "stream",
     "text": [
      "비밀은 없다\n"
     ]
    }
   ],
   "source": [
    "print(kim.secret)"
   ]
  },
  {
   "cell_type": "code",
   "execution_count": 23,
   "id": "cbe00fa8-e536-4fca-bada-91823c252b1f",
   "metadata": {},
   "outputs": [
    {
     "data": {
      "text/plain": [
       "'지구는 4006년에 멸망한다.'"
      ]
     },
     "execution_count": 23,
     "metadata": {},
     "output_type": "execute_result"
    }
   ],
   "source": [
    "Service.secret"
   ]
  },
  {
   "cell_type": "code",
   "execution_count": 25,
   "id": "984356c7-fa9d-467e-92d5-b8caff6fa73a",
   "metadata": {},
   "outputs": [],
   "source": [
    "# __ init__\n",
    "#lee = Service()\n",
    "#lee.sum(1,1)"
   ]
  },
  {
   "cell_type": "code",
   "execution_count": 26,
   "id": "babaae22-2b27-436f-9235-0ecc2daca2ee",
   "metadata": {},
   "outputs": [],
   "source": [
    "# __init__\n",
    "class Service:\n",
    "    secret = \"지구는 4006년에 멸망한다.\"\n",
    "    \n",
    "    def __init__(self, name):\n",
    "        self.name = name\n",
    "        \n",
    "    def sum(self, a, b):\n",
    "        result = a + b\n",
    "        print(\"%s님, %s + %s = %s이다.\" % (self.name, a, b, result))"
   ]
  },
  {
   "cell_type": "code",
   "execution_count": 27,
   "id": "6b6b46bf-46bd-4344-9501-571c89decae8",
   "metadata": {},
   "outputs": [
    {
     "name": "stdout",
     "output_type": "stream",
     "text": [
      "박달도사님, 1 + 1 = 2이다.\n"
     ]
    }
   ],
   "source": [
    "an = Service(\"박달도사\")\n",
    "an.sum(1,1)"
   ]
  },
  {
   "cell_type": "code",
   "execution_count": 29,
   "id": "f8de52f7-d02b-4c79-8678-0e70100da5c4",
   "metadata": {},
   "outputs": [],
   "source": [
    "# 사칙연산 클래스\n",
    "class FourCal:\n",
    "    pass"
   ]
  },
  {
   "cell_type": "code",
   "execution_count": 30,
   "id": "918094dc-ef1a-48b1-851b-bfc869eeaf69",
   "metadata": {},
   "outputs": [],
   "source": [
    "a = FourCal()"
   ]
  },
  {
   "cell_type": "code",
   "execution_count": 31,
   "id": "07dc3035-1680-4170-95e0-422d10732454",
   "metadata": {},
   "outputs": [
    {
     "data": {
      "text/plain": [
       "__main__.FourCal"
      ]
     },
     "execution_count": 31,
     "metadata": {},
     "output_type": "execute_result"
    }
   ],
   "source": [
    "type(a)"
   ]
  },
  {
   "cell_type": "code",
   "execution_count": 32,
   "id": "1e47a4ec-c889-4d99-aaba-62160c57bf13",
   "metadata": {},
   "outputs": [],
   "source": [
    "# 사칙연산 클래스\n",
    "class FourCal:\n",
    "    def setdata(self, first, second):\n",
    "        self.first = first\n",
    "        self.second = second"
   ]
  },
  {
   "cell_type": "code",
   "execution_count": 33,
   "id": "ac11d479-60f8-4714-ace1-51d38e5cce65",
   "metadata": {},
   "outputs": [],
   "source": [
    "a = FourCal()\n",
    "a.setdata(4,2)"
   ]
  },
  {
   "cell_type": "code",
   "execution_count": 34,
   "id": "b48e550e-2cfa-4df3-bdf1-e0647a18fd7f",
   "metadata": {},
   "outputs": [
    {
     "data": {
      "text/plain": [
       "4"
      ]
     },
     "execution_count": 34,
     "metadata": {},
     "output_type": "execute_result"
    }
   ],
   "source": [
    "a.first"
   ]
  },
  {
   "cell_type": "code",
   "execution_count": 35,
   "id": "2c4b93a4-a399-424d-ac07-f1fb23a0d4b6",
   "metadata": {},
   "outputs": [
    {
     "data": {
      "text/plain": [
       "2"
      ]
     },
     "execution_count": 35,
     "metadata": {},
     "output_type": "execute_result"
    }
   ],
   "source": [
    "a.second"
   ]
  },
  {
   "cell_type": "code",
   "execution_count": 36,
   "id": "47709971-c1aa-43eb-b646-aba05e77ad22",
   "metadata": {},
   "outputs": [],
   "source": [
    "# 사칙연산 클래스\n",
    "class FourCal:\n",
    "    def setdata(self, first, second):\n",
    "        self.first = first\n",
    "        self.second = second\n",
    "    \n",
    "    def sum(self):\n",
    "        result = self.first + self.second\n",
    "        return result"
   ]
  },
  {
   "cell_type": "code",
   "execution_count": 37,
   "id": "ec01bdfd-1d7e-479f-b140-12dd2aa766e2",
   "metadata": {},
   "outputs": [],
   "source": [
    "a = FourCal()\n",
    "a.setdata(4,2)"
   ]
  },
  {
   "cell_type": "code",
   "execution_count": 39,
   "id": "0f2d66f7-966e-4d22-b906-6fb43063b871",
   "metadata": {},
   "outputs": [
    {
     "data": {
      "text/plain": [
       "6"
      ]
     },
     "execution_count": 39,
     "metadata": {},
     "output_type": "execute_result"
    }
   ],
   "source": [
    "a.sum()"
   ]
  },
  {
   "cell_type": "code",
   "execution_count": 40,
   "id": "741af56e-1959-4125-8b41-a04698af81d8",
   "metadata": {},
   "outputs": [],
   "source": [
    "# 사칙연산 클래스\n",
    "class FourCal:\n",
    "    def setdata(self, first, second):\n",
    "        self.first = first\n",
    "        self.second = second\n",
    "    \n",
    "    def sum(self):\n",
    "        result = self.first + self.second\n",
    "        return result\n",
    "    \n",
    "    def mul(self):\n",
    "        result = self.first * self.second\n",
    "        return result\n",
    "    \n",
    "    def sub(self):\n",
    "        result = self.first - self.second\n",
    "        return result\n",
    "    \n",
    "    def div(self):\n",
    "        result = self.first / self.second\n",
    "        return result"
   ]
  },
  {
   "cell_type": "code",
   "execution_count": 41,
   "id": "05228654-2e16-4f07-9626-fe9d91a73dc2",
   "metadata": {},
   "outputs": [],
   "source": [
    "a = FourCal()\n",
    "b = FourCal()\n",
    "a.setdata(4,2)\n",
    "b.setdata(3,7)"
   ]
  },
  {
   "cell_type": "code",
   "execution_count": 42,
   "id": "eea8ade9-8f5c-48e3-8227-97f3cf57caeb",
   "metadata": {},
   "outputs": [
    {
     "data": {
      "text/plain": [
       "6"
      ]
     },
     "execution_count": 42,
     "metadata": {},
     "output_type": "execute_result"
    }
   ],
   "source": [
    "a.sum()"
   ]
  },
  {
   "cell_type": "code",
   "execution_count": 43,
   "id": "f0a17286-08d1-4336-a563-d0ad00eeb499",
   "metadata": {},
   "outputs": [
    {
     "data": {
      "text/plain": [
       "8"
      ]
     },
     "execution_count": 43,
     "metadata": {},
     "output_type": "execute_result"
    }
   ],
   "source": [
    "a.mul()"
   ]
  },
  {
   "cell_type": "code",
   "execution_count": 44,
   "id": "bdaf53cb-34d8-4135-be38-6e737ed79582",
   "metadata": {},
   "outputs": [
    {
     "data": {
      "text/plain": [
       "2"
      ]
     },
     "execution_count": 44,
     "metadata": {},
     "output_type": "execute_result"
    }
   ],
   "source": [
    "a.sub()"
   ]
  },
  {
   "cell_type": "code",
   "execution_count": 45,
   "id": "4a060c8e-d853-4412-af74-b3bfc25d3311",
   "metadata": {},
   "outputs": [
    {
     "data": {
      "text/plain": [
       "2.0"
      ]
     },
     "execution_count": 45,
     "metadata": {},
     "output_type": "execute_result"
    }
   ],
   "source": [
    "a.div()"
   ]
  },
  {
   "cell_type": "code",
   "execution_count": 46,
   "id": "a6784d6e-1125-44b6-9c63-382b22501ecd",
   "metadata": {},
   "outputs": [
    {
     "data": {
      "text/plain": [
       "-4"
      ]
     },
     "execution_count": 46,
     "metadata": {},
     "output_type": "execute_result"
    }
   ],
   "source": [
    "b.sub()"
   ]
  },
  {
   "cell_type": "code",
   "execution_count": 47,
   "id": "b7f99b40-be83-41af-9515-2a60ca4d5a93",
   "metadata": {},
   "outputs": [],
   "source": [
    "# 주사위 게임 - 순차적 프로그래밍\n",
    "import random\n",
    "\n",
    "player1_dice = []\n",
    "player2_dice = []\n",
    "\n",
    "for i in range(3):\n",
    "    player1_dice.append(random.randint(1, 6))\n",
    "    player2_dice.append(random.randint(1, 6))"
   ]
  },
  {
   "cell_type": "code",
   "execution_count": 48,
   "id": "0b8abc40-45fd-4eae-b476-659763fd84a8",
   "metadata": {},
   "outputs": [
    {
     "name": "stdout",
     "output_type": "stream",
     "text": [
      "Player 1 rolled[5, 5, 4]\n",
      "Player 2 rolled[2, 3, 3]\n"
     ]
    }
   ],
   "source": [
    "print(\"Player 1 rolled\" + str(player1_dice))\n",
    "print(\"Player 2 rolled\" + str(player2_dice))"
   ]
  },
  {
   "cell_type": "code",
   "execution_count": 49,
   "id": "5a4664c6-b77e-451c-9d99-68de76cfdf10",
   "metadata": {},
   "outputs": [
    {
     "name": "stdout",
     "output_type": "stream",
     "text": [
      "Player1 wins\n"
     ]
    }
   ],
   "source": [
    "if sum(player1_dice) == sum(player2_dice):\n",
    "    print(\"Draw\")\n",
    "elif sum(player1_dice) > sum(player2_dice):\n",
    "    print(\"Player1 wins\")\n",
    "else:\n",
    "    print(\"Player2 wins\")"
   ]
  },
  {
   "cell_type": "code",
   "execution_count": 50,
   "id": "6047fb4e-0b9d-4520-b55b-4ab576f3e01d",
   "metadata": {},
   "outputs": [],
   "source": [
    "# 주사위 게임 - OOP\n",
    "from random import randint\n",
    "\n",
    "class Player:\n",
    "    def __init__(self):\n",
    "        self.dice = []\n",
    "    \n",
    "    def roll(self):\n",
    "        self.dice = []\n",
    "        for i in range(3):\n",
    "            self.dice.append(randint(1, 6))\n",
    "    \n",
    "    def get_dice(self):\n",
    "        return self.dice"
   ]
  },
  {
   "cell_type": "code",
   "execution_count": 51,
   "id": "e6f6167b-98c1-4f3c-9324-fe4f96dbefd9",
   "metadata": {},
   "outputs": [],
   "source": [
    "player1 = Player()\n",
    "player2 = Player()\n",
    "\n",
    "player1.roll()\n",
    "player2.roll()"
   ]
  },
  {
   "cell_type": "code",
   "execution_count": 52,
   "id": "b2eda333-177a-4a45-a72b-34607d04734e",
   "metadata": {},
   "outputs": [
    {
     "name": "stdout",
     "output_type": "stream",
     "text": [
      "Player 1 rolled[6, 5, 6]\n",
      "Player 2 rolled[4, 6, 5]\n"
     ]
    }
   ],
   "source": [
    "print(\"Player 1 rolled\" + str(player1.get_dice()))\n",
    "print(\"Player 2 rolled\" + str(player2.get_dice()))"
   ]
  },
  {
   "cell_type": "code",
   "execution_count": 53,
   "id": "aecee5bb-107a-476e-828b-4e02c27968d2",
   "metadata": {},
   "outputs": [
    {
     "name": "stdout",
     "output_type": "stream",
     "text": [
      "Player1 wins\n"
     ]
    }
   ],
   "source": [
    "if sum(player1.get_dice()) == sum(player2.get_dice()):\n",
    "    print(\"Draw\")\n",
    "elif sum(player1.get_dice()) > sum(player2.get_dice()):\n",
    "    print(\"Player1 wins\")\n",
    "else:\n",
    "    print(\"Player2 wins\")"
   ]
  },
  {
   "cell_type": "code",
   "execution_count": null,
   "id": "d6a1695b-062e-4861-b200-630372f9ab13",
   "metadata": {},
   "outputs": [],
   "source": []
  }
 ],
 "metadata": {
  "kernelspec": {
   "display_name": "Python 3 (ipykernel)",
   "language": "python",
   "name": "python3"
  },
  "language_info": {
   "codemirror_mode": {
    "name": "ipython",
    "version": 3
   },
   "file_extension": ".py",
   "mimetype": "text/x-python",
   "name": "python",
   "nbconvert_exporter": "python",
   "pygments_lexer": "ipython3",
   "version": "3.10.0"
  }
 },
 "nbformat": 4,
 "nbformat_minor": 5
}
