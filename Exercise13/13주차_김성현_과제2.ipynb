{
 "cells": [
  {
   "cell_type": "markdown",
   "id": "316c0740-a8f3-48b6-99d2-ca38e6f5bee6",
   "metadata": {},
   "source": [
    "### 데이터 가져오기"
   ]
  },
  {
   "cell_type": "code",
   "execution_count": 1,
   "id": "910eda72-effe-4705-8288-06ee37fadaf0",
   "metadata": {},
   "outputs": [
    {
     "name": "stderr",
     "output_type": "stream",
     "text": [
      "Downloading...\n",
      "From: https://bit.ly/3q9SZix\n",
      "To: /Volumes/Data/22.HYMOT/03.Python/01.Coursework/202309.Python/Exercise13/20s_best_book.json\n",
      "100%|██████████████████████████████████████| 92.9k/92.9k [00:00<00:00, 9.03MB/s]\n"
     ]
    },
    {
     "data": {
      "text/plain": [
       "'20s_best_book.json'"
      ]
     },
     "execution_count": 1,
     "metadata": {},
     "output_type": "execute_result"
    }
   ],
   "source": [
    "import gdown\n",
    "\n",
    "gdown.download('https://bit.ly/3q9SZix', '20s_best_book.json', quiet=False)"
   ]
  },
  {
   "cell_type": "code",
   "execution_count": 2,
   "id": "36f3956b-b2dc-4754-a8bb-a30e492becf2",
   "metadata": {},
   "outputs": [
    {
     "data": {
      "text/html": [
       "<div>\n",
       "<style scoped>\n",
       "    .dataframe tbody tr th:only-of-type {\n",
       "        vertical-align: middle;\n",
       "    }\n",
       "\n",
       "    .dataframe tbody tr th {\n",
       "        vertical-align: top;\n",
       "    }\n",
       "\n",
       "    .dataframe thead th {\n",
       "        text-align: right;\n",
       "    }\n",
       "</style>\n",
       "<table border=\"1\" class=\"dataframe\">\n",
       "  <thead>\n",
       "    <tr style=\"text-align: right;\">\n",
       "      <th></th>\n",
       "      <th>no</th>\n",
       "      <th>ranking</th>\n",
       "      <th>bookname</th>\n",
       "      <th>authors</th>\n",
       "      <th>publisher</th>\n",
       "      <th>publication_year</th>\n",
       "      <th>isbn13</th>\n",
       "      <th>addition_symbol</th>\n",
       "      <th>vol</th>\n",
       "      <th>class_no</th>\n",
       "      <th>class_nm</th>\n",
       "      <th>loan_count</th>\n",
       "      <th>bookImageURL</th>\n",
       "    </tr>\n",
       "  </thead>\n",
       "  <tbody>\n",
       "    <tr>\n",
       "      <th>0</th>\n",
       "      <td>1</td>\n",
       "      <td>1</td>\n",
       "      <td>우리가 빛의 속도로 갈 수 없다면 :김초엽 소설</td>\n",
       "      <td>지은이: 김초엽</td>\n",
       "      <td>허블</td>\n",
       "      <td>2019</td>\n",
       "      <td>9791190090018</td>\n",
       "      <td>03810</td>\n",
       "      <td></td>\n",
       "      <td>813.7</td>\n",
       "      <td>문학 &gt; 한국문학 &gt; 소설</td>\n",
       "      <td>461</td>\n",
       "      <td>https://image.aladin.co.kr/product/19359/16/co...</td>\n",
       "    </tr>\n",
       "    <tr>\n",
       "      <th>1</th>\n",
       "      <td>2</td>\n",
       "      <td>2</td>\n",
       "      <td>달러구트 꿈 백화점.이미예 장편소설</td>\n",
       "      <td>지은이: 이미예</td>\n",
       "      <td>팩토리나인</td>\n",
       "      <td>2020</td>\n",
       "      <td>9791165341909</td>\n",
       "      <td>03810</td>\n",
       "      <td></td>\n",
       "      <td>813.7</td>\n",
       "      <td>문학 &gt; 한국문학 &gt; 소설</td>\n",
       "      <td>387</td>\n",
       "      <td>https://image.aladin.co.kr/product/24512/70/co...</td>\n",
       "    </tr>\n",
       "    <tr>\n",
       "      <th>2</th>\n",
       "      <td>3</td>\n",
       "      <td>3</td>\n",
       "      <td>지구에서 한아뿐 :정세랑 장편소설</td>\n",
       "      <td>지은이: 정세랑</td>\n",
       "      <td>난다</td>\n",
       "      <td>2019</td>\n",
       "      <td>9791188862290</td>\n",
       "      <td>03810</td>\n",
       "      <td></td>\n",
       "      <td>813.7</td>\n",
       "      <td>문학 &gt; 한국문학 &gt; 소설</td>\n",
       "      <td>383</td>\n",
       "      <td>https://image.aladin.co.kr/product/19804/82/co...</td>\n",
       "    </tr>\n",
       "    <tr>\n",
       "      <th>3</th>\n",
       "      <td>4</td>\n",
       "      <td>4</td>\n",
       "      <td>시선으로부터, :정세랑 장편소설</td>\n",
       "      <td>지은이: 정세랑</td>\n",
       "      <td>문학동네</td>\n",
       "      <td>2020</td>\n",
       "      <td>9788954672214</td>\n",
       "      <td>03810</td>\n",
       "      <td></td>\n",
       "      <td>813.7</td>\n",
       "      <td>문학 &gt; 한국문학 &gt; 소설</td>\n",
       "      <td>370</td>\n",
       "      <td>https://image.aladin.co.kr/product/24131/37/co...</td>\n",
       "    </tr>\n",
       "    <tr>\n",
       "      <th>4</th>\n",
       "      <td>5</td>\n",
       "      <td>5</td>\n",
       "      <td>아몬드 :손원평 장편소설</td>\n",
       "      <td>지은이: 손원평</td>\n",
       "      <td>창비</td>\n",
       "      <td>2017</td>\n",
       "      <td>9788936434267</td>\n",
       "      <td>03810</td>\n",
       "      <td></td>\n",
       "      <td>813.7</td>\n",
       "      <td>문학 &gt; 한국문학 &gt; 소설</td>\n",
       "      <td>365</td>\n",
       "      <td>http://image.aladin.co.kr/product/16839/4/cove...</td>\n",
       "    </tr>\n",
       "  </tbody>\n",
       "</table>\n",
       "</div>"
      ],
      "text/plain": [
       "   no  ranking                     bookname   authors publisher  \\\n",
       "0   1        1  우리가 빛의 속도로 갈 수 없다면 :김초엽 소설   지은이: 김초엽        허블   \n",
       "1   2        2         달러구트 꿈 백화점.이미예 장편소설   지은이: 이미예     팩토리나인   \n",
       "2   3        3          지구에서 한아뿐 :정세랑 장편소설   지은이: 정세랑        난다   \n",
       "3   4        4           시선으로부터, :정세랑 장편소설   지은이: 정세랑      문학동네   \n",
       "4   5        5               아몬드 :손원평 장편소설   지은이: 손원평        창비   \n",
       "\n",
       "  publication_year         isbn13 addition_symbol vol  class_no  \\\n",
       "0             2019  9791190090018           03810         813.7   \n",
       "1             2020  9791165341909           03810         813.7   \n",
       "2             2019  9791188862290           03810         813.7   \n",
       "3             2020  9788954672214           03810         813.7   \n",
       "4             2017  9788936434267           03810         813.7   \n",
       "\n",
       "         class_nm  loan_count  \\\n",
       "0  문학 > 한국문학 > 소설         461   \n",
       "1  문학 > 한국문학 > 소설         387   \n",
       "2  문학 > 한국문학 > 소설         383   \n",
       "3  문학 > 한국문학 > 소설         370   \n",
       "4  문학 > 한국문학 > 소설         365   \n",
       "\n",
       "                                        bookImageURL  \n",
       "0  https://image.aladin.co.kr/product/19359/16/co...  \n",
       "1  https://image.aladin.co.kr/product/24512/70/co...  \n",
       "2  https://image.aladin.co.kr/product/19804/82/co...  \n",
       "3  https://image.aladin.co.kr/product/24131/37/co...  \n",
       "4  http://image.aladin.co.kr/product/16839/4/cove...  "
      ]
     },
     "execution_count": 2,
     "metadata": {},
     "output_type": "execute_result"
    }
   ],
   "source": [
    "import pandas as pd\n",
    "\n",
    "books_df = pd.read_json('20s_best_book.json')\n",
    "books_df.head()"
   ]
  },
  {
   "cell_type": "code",
   "execution_count": 3,
   "id": "588749c1-38f9-4c06-9f4e-5d50878650af",
   "metadata": {},
   "outputs": [
    {
     "data": {
      "text/html": [
       "<div>\n",
       "<style scoped>\n",
       "    .dataframe tbody tr th:only-of-type {\n",
       "        vertical-align: middle;\n",
       "    }\n",
       "\n",
       "    .dataframe tbody tr th {\n",
       "        vertical-align: top;\n",
       "    }\n",
       "\n",
       "    .dataframe thead th {\n",
       "        text-align: right;\n",
       "    }\n",
       "</style>\n",
       "<table border=\"1\" class=\"dataframe\">\n",
       "  <thead>\n",
       "    <tr style=\"text-align: right;\">\n",
       "      <th></th>\n",
       "      <th>no</th>\n",
       "      <th>ranking</th>\n",
       "      <th>bookname</th>\n",
       "      <th>authors</th>\n",
       "      <th>publisher</th>\n",
       "      <th>publication_year</th>\n",
       "      <th>isbn13</th>\n",
       "    </tr>\n",
       "  </thead>\n",
       "  <tbody>\n",
       "    <tr>\n",
       "      <th>0</th>\n",
       "      <td>1</td>\n",
       "      <td>1</td>\n",
       "      <td>우리가 빛의 속도로 갈 수 없다면 :김초엽 소설</td>\n",
       "      <td>지은이: 김초엽</td>\n",
       "      <td>허블</td>\n",
       "      <td>2019</td>\n",
       "      <td>9791190090018</td>\n",
       "    </tr>\n",
       "    <tr>\n",
       "      <th>1</th>\n",
       "      <td>2</td>\n",
       "      <td>2</td>\n",
       "      <td>달러구트 꿈 백화점.이미예 장편소설</td>\n",
       "      <td>지은이: 이미예</td>\n",
       "      <td>팩토리나인</td>\n",
       "      <td>2020</td>\n",
       "      <td>9791165341909</td>\n",
       "    </tr>\n",
       "    <tr>\n",
       "      <th>2</th>\n",
       "      <td>3</td>\n",
       "      <td>3</td>\n",
       "      <td>지구에서 한아뿐 :정세랑 장편소설</td>\n",
       "      <td>지은이: 정세랑</td>\n",
       "      <td>난다</td>\n",
       "      <td>2019</td>\n",
       "      <td>9791188862290</td>\n",
       "    </tr>\n",
       "    <tr>\n",
       "      <th>3</th>\n",
       "      <td>4</td>\n",
       "      <td>4</td>\n",
       "      <td>시선으로부터, :정세랑 장편소설</td>\n",
       "      <td>지은이: 정세랑</td>\n",
       "      <td>문학동네</td>\n",
       "      <td>2020</td>\n",
       "      <td>9788954672214</td>\n",
       "    </tr>\n",
       "    <tr>\n",
       "      <th>4</th>\n",
       "      <td>5</td>\n",
       "      <td>5</td>\n",
       "      <td>아몬드 :손원평 장편소설</td>\n",
       "      <td>지은이: 손원평</td>\n",
       "      <td>창비</td>\n",
       "      <td>2017</td>\n",
       "      <td>9788936434267</td>\n",
       "    </tr>\n",
       "  </tbody>\n",
       "</table>\n",
       "</div>"
      ],
      "text/plain": [
       "   no  ranking                     bookname   authors publisher  \\\n",
       "0   1        1  우리가 빛의 속도로 갈 수 없다면 :김초엽 소설   지은이: 김초엽        허블   \n",
       "1   2        2         달러구트 꿈 백화점.이미예 장편소설   지은이: 이미예     팩토리나인   \n",
       "2   3        3          지구에서 한아뿐 :정세랑 장편소설   지은이: 정세랑        난다   \n",
       "3   4        4           시선으로부터, :정세랑 장편소설   지은이: 정세랑      문학동네   \n",
       "4   5        5               아몬드 :손원평 장편소설   지은이: 손원평        창비   \n",
       "\n",
       "  publication_year         isbn13  \n",
       "0             2019  9791190090018  \n",
       "1             2020  9791165341909  \n",
       "2             2019  9791188862290  \n",
       "3             2020  9788954672214  \n",
       "4             2017  9788936434267  "
      ]
     },
     "execution_count": 3,
     "metadata": {},
     "output_type": "execute_result"
    }
   ],
   "source": [
    "books = books_df[['no','ranking','bookname','authors','publisher',\n",
    "                 'publication_year','isbn13']]\n",
    "books.head()"
   ]
  },
  {
   "cell_type": "markdown",
   "id": "d09aa3c7-c2a9-4a0c-bb29-42361984940b",
   "metadata": {},
   "source": [
    "### 도서 검색"
   ]
  },
  {
   "cell_type": "code",
   "execution_count": 4,
   "id": "7f982f45-7fbb-407b-8209-afc17ef01321",
   "metadata": {},
   "outputs": [],
   "source": [
    "import requests\n",
    "\n",
    "isbn = 9791190090018      # '우리가 빛의 속도로 갈 수 없다면'의 ISBN\n",
    "url = 'http://www.yes24.com/Product/Search?domain=BOOK&query={}'\n",
    "\n",
    "r = requests.get(url.format(isbn))"
   ]
  },
  {
   "cell_type": "markdown",
   "id": "36193162-519d-4041-8f6e-d0abd3f59e2e",
   "metadata": {},
   "source": [
    "### 상세 검색"
   ]
  },
  {
   "cell_type": "code",
   "execution_count": 5,
   "id": "a4762f82-1b43-49d6-85e8-174c3eb0a0b5",
   "metadata": {},
   "outputs": [],
   "source": [
    "from bs4 import BeautifulSoup\n",
    "\n",
    "soup = BeautifulSoup(r.text, 'html.parser')\n",
    "prd_link = soup.find('a', attrs={'class':'gd_name'})"
   ]
  },
  {
   "cell_type": "code",
   "execution_count": 13,
   "id": "d8032728-28d5-474b-94a5-4711e5699f3a",
   "metadata": {},
   "outputs": [
    {
     "data": {
      "text/plain": [
       "<a class=\"gd_name\" href=\"/Product/Goods/74261416\" onclick=\"wiseLogV2('S', '101_005_003_001', ''); setGoodsClickExtraCodeHub('032', '9791190090018', '74261416', '0');\">우리가 빛의 속도로 갈 수 없다면</a>"
      ]
     },
     "execution_count": 13,
     "metadata": {},
     "output_type": "execute_result"
    }
   ],
   "source": [
    "prd_link"
   ]
  },
  {
   "cell_type": "code",
   "execution_count": 6,
   "id": "bdb6f2bd-7c15-432d-ab19-c8611fd947c5",
   "metadata": {},
   "outputs": [],
   "source": [
    "# '우리가 빛의 속도로 갈 수 없다면'의 상세 페이지 가져오기\n",
    "url = 'http://www.yes24.com'+prd_link['href']\n",
    "r = requests.get(url)"
   ]
  },
  {
   "cell_type": "code",
   "execution_count": 7,
   "id": "e3e4e3d0-c5f2-4aaf-a364-c28403144e14",
   "metadata": {},
   "outputs": [],
   "source": [
    "soup = BeautifulSoup(r.text, 'html.parser')\n",
    "prd_detail = soup.find('div', attrs={'id':'infoset_specific'})"
   ]
  },
  {
   "cell_type": "code",
   "execution_count": 8,
   "id": "300f9043-d165-4796-858b-b3902374485c",
   "metadata": {},
   "outputs": [],
   "source": [
    "prd_tr_list = prd_detail.find_all('tr')"
   ]
  },
  {
   "cell_type": "code",
   "execution_count": 9,
   "id": "fe2e1d59-f0ae-4733-84b0-cfb7f6f256d9",
   "metadata": {},
   "outputs": [],
   "source": [
    "for tr in prd_tr_list:\n",
    "    if tr.find('th').get_text() == '쪽수, 무게, 크기':\n",
    "        page_td = tr.find('td').get_text()\n",
    "        break"
   ]
  },
  {
   "cell_type": "code",
   "execution_count": 10,
   "id": "c48eb428-586c-44b0-9666-7b35562aff4c",
   "metadata": {},
   "outputs": [
    {
     "name": "stdout",
     "output_type": "stream",
     "text": [
      "330쪽 | 496g | 130*198*30mm\n"
     ]
    }
   ],
   "source": [
    "print(page_td)"
   ]
  },
  {
   "cell_type": "code",
   "execution_count": 14,
   "id": "412bbc48-e576-423b-82e8-35422bccae11",
   "metadata": {},
   "outputs": [
    {
     "name": "stdout",
     "output_type": "stream",
     "text": [
      "496g\n"
     ]
    }
   ],
   "source": [
    "# 무게 가져오기\n",
    "print(page_td.split()[2])"
   ]
  },
  {
   "cell_type": "markdown",
   "id": "d7d6ee49-b522-44f4-8543-09e41ae76d49",
   "metadata": {},
   "source": [
    "### (1) 다른 정보 추출하기"
   ]
  },
  {
   "cell_type": "markdown",
   "id": "2de8382a-5027-451a-8db6-6338d9abae50",
   "metadata": {},
   "source": [
    "#### 무게 추출하기"
   ]
  },
  {
   "cell_type": "code",
   "execution_count": 15,
   "id": "61ce474f-427f-4375-9b24-276fb83a0a8d",
   "metadata": {},
   "outputs": [],
   "source": [
    "def get_weight(isbn):\n",
    "    # Yes24 도서 검색 페이지 URL\n",
    "    url = 'http://www.yes24.com/Product/Search?domain=BOOK&query={}'\n",
    "    # URL에 ISBN을 넣어 HTML 가져옵니다.\n",
    "    r = requests.get(url.format(isbn))\n",
    "    soup = BeautifulSoup(r.text, 'html.parser')   # HTML 파싱\n",
    "    # 검색 결과에서 해당 도서를 선택합니다.\n",
    "    prd_info = soup.find('a', attrs={'class':'gd_name'})\n",
    "    if prd_info == None:\n",
    "        return ''\n",
    "    # 도서 상세 페이지를 가져옵니다.\n",
    "    url = 'http://www.yes24.com'+prd_info['href']\n",
    "    r = requests.get(url)\n",
    "    soup = BeautifulSoup(r.text, 'html.parser')\n",
    "    # 상품 상세정보 div를 선택합니다.\n",
    "    prd_detail = soup.find('div', attrs={'id':'infoset_specific'})\n",
    "    # 테이블에 있는 tr 태그를 가져옵니다.\n",
    "    prd_tr_list = prd_detail.find_all('tr')\n",
    "    # 무게가 들어 있는 th를 찾아 td에 담긴 값을 반환합니다.\n",
    "    for tr in prd_tr_list:\n",
    "        if tr.find('th').get_text() == '쪽수, 무게, 크기':\n",
    "            return tr.find('td').get_text().split()[2]\n",
    "    return ''"
   ]
  },
  {
   "cell_type": "code",
   "execution_count": 20,
   "id": "fa634bc8-7404-42f0-b266-7e5d07d04d7f",
   "metadata": {},
   "outputs": [
    {
     "data": {
      "text/plain": [
       "'496g'"
      ]
     },
     "execution_count": 20,
     "metadata": {},
     "output_type": "execute_result"
    }
   ],
   "source": [
    "# 하나의 책에 대해 무게 가져오기\n",
    "get_weight(9791190090018)"
   ]
  },
  {
   "cell_type": "code",
   "execution_count": 21,
   "id": "50976a1d-cff6-400d-922f-3dc8e55bc33b",
   "metadata": {},
   "outputs": [],
   "source": [
    "# 10개만\n",
    "top10_books = books.head(10)"
   ]
  },
  {
   "cell_type": "code",
   "execution_count": 23,
   "id": "37ab798b-4ef6-4ec0-bcc0-c56e3d3079a0",
   "metadata": {},
   "outputs": [],
   "source": [
    "# 10개에 대한 무게 가져오고, 이름 지정\n",
    "weight = top10_books.apply(lambda row: get_weight(row['isbn13']), axis=1)\n",
    "weight.name = 'weight'"
   ]
  },
  {
   "cell_type": "code",
   "execution_count": 24,
   "id": "e92ea54e-535f-448c-b390-f5df3a9066a7",
   "metadata": {},
   "outputs": [
    {
     "data": {
      "text/html": [
       "<div>\n",
       "<style scoped>\n",
       "    .dataframe tbody tr th:only-of-type {\n",
       "        vertical-align: middle;\n",
       "    }\n",
       "\n",
       "    .dataframe tbody tr th {\n",
       "        vertical-align: top;\n",
       "    }\n",
       "\n",
       "    .dataframe thead th {\n",
       "        text-align: right;\n",
       "    }\n",
       "</style>\n",
       "<table border=\"1\" class=\"dataframe\">\n",
       "  <thead>\n",
       "    <tr style=\"text-align: right;\">\n",
       "      <th></th>\n",
       "      <th>no</th>\n",
       "      <th>ranking</th>\n",
       "      <th>bookname</th>\n",
       "      <th>authors</th>\n",
       "      <th>publisher</th>\n",
       "      <th>publication_year</th>\n",
       "      <th>isbn13</th>\n",
       "      <th>weight</th>\n",
       "    </tr>\n",
       "  </thead>\n",
       "  <tbody>\n",
       "    <tr>\n",
       "      <th>0</th>\n",
       "      <td>1</td>\n",
       "      <td>1</td>\n",
       "      <td>우리가 빛의 속도로 갈 수 없다면 :김초엽 소설</td>\n",
       "      <td>지은이: 김초엽</td>\n",
       "      <td>허블</td>\n",
       "      <td>2019</td>\n",
       "      <td>9791190090018</td>\n",
       "      <td>496g</td>\n",
       "    </tr>\n",
       "    <tr>\n",
       "      <th>1</th>\n",
       "      <td>2</td>\n",
       "      <td>2</td>\n",
       "      <td>달러구트 꿈 백화점.이미예 장편소설</td>\n",
       "      <td>지은이: 이미예</td>\n",
       "      <td>팩토리나인</td>\n",
       "      <td>2020</td>\n",
       "      <td>9791165341909</td>\n",
       "      <td>358g</td>\n",
       "    </tr>\n",
       "    <tr>\n",
       "      <th>2</th>\n",
       "      <td>3</td>\n",
       "      <td>3</td>\n",
       "      <td>지구에서 한아뿐 :정세랑 장편소설</td>\n",
       "      <td>지은이: 정세랑</td>\n",
       "      <td>난다</td>\n",
       "      <td>2019</td>\n",
       "      <td>9791188862290</td>\n",
       "      <td>296g</td>\n",
       "    </tr>\n",
       "    <tr>\n",
       "      <th>3</th>\n",
       "      <td>4</td>\n",
       "      <td>4</td>\n",
       "      <td>시선으로부터, :정세랑 장편소설</td>\n",
       "      <td>지은이: 정세랑</td>\n",
       "      <td>문학동네</td>\n",
       "      <td>2020</td>\n",
       "      <td>9788954672214</td>\n",
       "      <td>412g</td>\n",
       "    </tr>\n",
       "    <tr>\n",
       "      <th>4</th>\n",
       "      <td>5</td>\n",
       "      <td>5</td>\n",
       "      <td>아몬드 :손원평 장편소설</td>\n",
       "      <td>지은이: 손원평</td>\n",
       "      <td>창비</td>\n",
       "      <td>2017</td>\n",
       "      <td>9788936434267</td>\n",
       "      <td>388g</td>\n",
       "    </tr>\n",
       "    <tr>\n",
       "      <th>5</th>\n",
       "      <td>6</td>\n",
       "      <td>6</td>\n",
       "      <td>피프티 피플 :정세랑 장편소설</td>\n",
       "      <td>지은이: 정세랑</td>\n",
       "      <td>창비</td>\n",
       "      <td>2016</td>\n",
       "      <td>9788936434243</td>\n",
       "      <td>512g</td>\n",
       "    </tr>\n",
       "    <tr>\n",
       "      <th>6</th>\n",
       "      <td>7</td>\n",
       "      <td>7</td>\n",
       "      <td>목소리를 드릴게요 :정세랑 소설집</td>\n",
       "      <td>지은이: 정세랑</td>\n",
       "      <td>아작</td>\n",
       "      <td>2020</td>\n",
       "      <td>9791165300005</td>\n",
       "      <td>318g</td>\n",
       "    </tr>\n",
       "    <tr>\n",
       "      <th>7</th>\n",
       "      <td>8</td>\n",
       "      <td>8</td>\n",
       "      <td>나미야 잡화점의 기적 :히가시노 게이고 장편소설</td>\n",
       "      <td>지은이: 히가시노 게이고 ;옮긴이: 양윤옥</td>\n",
       "      <td>현대문학</td>\n",
       "      <td>2012</td>\n",
       "      <td>9788972756194</td>\n",
       "      <td></td>\n",
       "    </tr>\n",
       "    <tr>\n",
       "      <th>8</th>\n",
       "      <td>9</td>\n",
       "      <td>9</td>\n",
       "      <td>선량한 차별주의자</td>\n",
       "      <td>김지혜 지음</td>\n",
       "      <td>창비</td>\n",
       "      <td>2019</td>\n",
       "      <td>9788936477196</td>\n",
       "      <td>324g</td>\n",
       "    </tr>\n",
       "    <tr>\n",
       "      <th>9</th>\n",
       "      <td>10</td>\n",
       "      <td>9</td>\n",
       "      <td>쇼코의 미소 :최은영 소설</td>\n",
       "      <td>지은이: 최은영</td>\n",
       "      <td>문학동네</td>\n",
       "      <td>2016</td>\n",
       "      <td>9788954641630</td>\n",
       "      <td>406g</td>\n",
       "    </tr>\n",
       "  </tbody>\n",
       "</table>\n",
       "</div>"
      ],
      "text/plain": [
       "   no  ranking                     bookname                  authors  \\\n",
       "0   1        1  우리가 빛의 속도로 갈 수 없다면 :김초엽 소설                  지은이: 김초엽   \n",
       "1   2        2         달러구트 꿈 백화점.이미예 장편소설                  지은이: 이미예   \n",
       "2   3        3          지구에서 한아뿐 :정세랑 장편소설                  지은이: 정세랑   \n",
       "3   4        4           시선으로부터, :정세랑 장편소설                  지은이: 정세랑   \n",
       "4   5        5               아몬드 :손원평 장편소설                  지은이: 손원평   \n",
       "5   6        6            피프티 피플 :정세랑 장편소설                  지은이: 정세랑   \n",
       "6   7        7          목소리를 드릴게요 :정세랑 소설집                  지은이: 정세랑   \n",
       "7   8        8  나미야 잡화점의 기적 :히가시노 게이고 장편소설   지은이: 히가시노 게이고 ;옮긴이: 양윤옥   \n",
       "8   9        9                   선량한 차별주의자                    김지혜 지음   \n",
       "9  10        9              쇼코의 미소 :최은영 소설                  지은이: 최은영   \n",
       "\n",
       "  publisher publication_year         isbn13 weight  \n",
       "0        허블             2019  9791190090018   496g  \n",
       "1     팩토리나인             2020  9791165341909   358g  \n",
       "2        난다             2019  9791188862290   296g  \n",
       "3      문학동네             2020  9788954672214   412g  \n",
       "4        창비             2017  9788936434267   388g  \n",
       "5        창비             2016  9788936434243   512g  \n",
       "6        아작             2020  9791165300005   318g  \n",
       "7      현대문학             2012  9788972756194         \n",
       "8        창비             2019  9788936477196   324g  \n",
       "9      문학동네             2016  9788954641630   406g  "
      ]
     },
     "execution_count": 24,
     "metadata": {},
     "output_type": "execute_result"
    }
   ],
   "source": [
    "# 기존 데이터랑 합치기\n",
    "top10_with_weight = pd.merge(top10_books, weight, left_index=True, right_index=True)\n",
    "top10_with_weight"
   ]
  },
  {
   "cell_type": "markdown",
   "id": "9f7cd8d4-020f-4a4d-8ee6-676292f8dc52",
   "metadata": {},
   "source": [
    "### (2) 쪽수와 다른 컬럼 같이 추가하기"
   ]
  },
  {
   "cell_type": "markdown",
   "id": "55218ff5-2f63-4cc6-a555-c3383273506e",
   "metadata": {},
   "source": [
    "#### 무게와 쪽수 추출해서 리스트로 저장"
   ]
  },
  {
   "cell_type": "code",
   "execution_count": 25,
   "id": "ea4d7bb6-ac67-440f-bd4b-28c41fa567a1",
   "metadata": {},
   "outputs": [],
   "source": [
    "def get_weight_page_cnt(isbn):\n",
    "    # Yes24 도서 검색 페이지 URL\n",
    "    url = 'http://www.yes24.com/Product/Search?domain=BOOK&query={}'\n",
    "    # URL에 ISBN을 넣어 HTML 가져옵니다.\n",
    "    r = requests.get(url.format(isbn))\n",
    "    soup = BeautifulSoup(r.text, 'html.parser')   # HTML 파싱\n",
    "    # 검색 결과에서 해당 도서를 선택합니다.\n",
    "    prd_info = soup.find('a', attrs={'class':'gd_name'})\n",
    "    if prd_info == None:\n",
    "        return ''\n",
    "    # 도서 상세 페이지를 가져옵니다.\n",
    "    url = 'http://www.yes24.com'+prd_info['href']\n",
    "    r = requests.get(url)\n",
    "    soup = BeautifulSoup(r.text, 'html.parser')\n",
    "    # 상품 상세정보 div를 선택합니다.\n",
    "    prd_detail = soup.find('div', attrs={'id':'infoset_specific'})\n",
    "    # 테이블에 있는 tr 태그를 가져옵니다.\n",
    "    prd_tr_list = prd_detail.find_all('tr')\n",
    "    # 쪽수가 들어 있는 th를 찾아 td에 담긴 값을 반환합니다.\n",
    "    for tr in prd_tr_list:\n",
    "        if tr.find('th').get_text() == '쪽수, 무게, 크기':\n",
    "            return [tr.find('td').get_text().split()[2],tr.find('td').get_text().split()[0]]\n",
    "    return ''"
   ]
  },
  {
   "cell_type": "code",
   "execution_count": 33,
   "id": "d2cad920-a4e7-430e-b1fb-799608dd38d2",
   "metadata": {},
   "outputs": [
    {
     "data": {
      "text/plain": [
       "['496g', '330쪽']"
      ]
     },
     "execution_count": 33,
     "metadata": {},
     "output_type": "execute_result"
    }
   ],
   "source": [
    "# 하나의 책에 대해 무게 가져오기\n",
    "get_weight_page_cnt(9791190090018)"
   ]
  },
  {
   "cell_type": "code",
   "execution_count": null,
   "id": "aa331523-e7d0-495c-a471-1bc46fa58689",
   "metadata": {},
   "outputs": [],
   "source": [
    "# 10개에 대한 무게와 쪽수 가져오기\n",
    "weight_page_cnt = top10_books.apply(lambda row: get_weight_page_cnt(row['isbn13']), axis=1)"
   ]
  },
  {
   "cell_type": "code",
   "execution_count": null,
   "id": "08b3ebe9-175a-49ba-a6a9-205138a535f7",
   "metadata": {},
   "outputs": [],
   "source": [
    "# 데이터프레임으로 변경 및 이름 지정\n",
    "w_df = weight_page_cnt.apply(lambda x:pd.Series(x))\n",
    "w_df.columns = ['weight', 'page_cnt']"
   ]
  },
  {
   "cell_type": "code",
   "execution_count": null,
   "id": "d577f039-7a58-4e65-94ba-cc4402296eb3",
   "metadata": {},
   "outputs": [],
   "source": [
    "w_df"
   ]
  },
  {
   "cell_type": "code",
   "execution_count": null,
   "id": "89d0fc65-90a0-44ba-ac07-7d09fdce289c",
   "metadata": {},
   "outputs": [],
   "source": [
    "# NaN 공백으로 치환\n",
    "import numpy as np\n",
    "\n",
    "top10_with_weight_page_cnt = pd.merge(top10_books, w_df, left_index=True, right_index=True).replace(np.nan, '')\n",
    "top10_with_weight_page_cnt"
   ]
  },
  {
   "cell_type": "code",
   "execution_count": null,
   "id": "665909fe-b8db-4cb2-9e71-c437a744fd23",
   "metadata": {},
   "outputs": [],
   "source": []
  }
 ],
 "metadata": {
  "kernelspec": {
   "display_name": "Python 3 (ipykernel)",
   "language": "python",
   "name": "python3"
  },
  "language_info": {
   "codemirror_mode": {
    "name": "ipython",
    "version": 3
   },
   "file_extension": ".py",
   "mimetype": "text/x-python",
   "name": "python",
   "nbconvert_exporter": "python",
   "pygments_lexer": "ipython3",
   "version": "3.10.0"
  }
 },
 "nbformat": 4,
 "nbformat_minor": 5
}
